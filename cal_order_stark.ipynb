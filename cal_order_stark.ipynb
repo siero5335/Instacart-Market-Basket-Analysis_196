{
 "cells": [
  {
   "cell_type": "code",
   "execution_count": 1,
   "metadata": {
    "collapsed": true
   },
   "outputs": [],
   "source": [
    "import pandas as pd\n",
    "import multiprocessing as mp\n",
    "total_proc = 4"
   ]
  },
  {
   "cell_type": "code",
   "execution_count": null,
   "metadata": {
    "collapsed": true
   },
   "outputs": [],
   "source": [
    "orders = pd.read_csv('../input/orders.csv')\n",
    "\n",
    "log = pd.merge(pd.concat([pd.read_csv('../input/order_products__prior.csv'), \n",
    "                 pd.read_csv('../input/order_products__train.csv')], \n",
    "                ignore_index=1), \n",
    "               orders, on='order_id', how='left')[[ 'order_id', 'user_id', 'product_id', 'order_number']]"
   ]
  },
  {
   "cell_type": "code",
   "execution_count": null,
   "metadata": {
    "collapsed": true
   },
   "outputs": [],
   "source": [
    "def multi(uid):\n",
    "    tmp = log[log.user_id==uid]\n",
    "    ct = pd.crosstab(tmp.order_number, tmp.product_id).reset_index().set_index('order_number')\n",
    "    li = []\n",
    "    for pid in ct.columns:\n",
    "        streak = 0\n",
    "        sw_odr = False\n",
    "        for onb,odr in enumerate(ct[pid].values):\n",
    "            onb+=1\n",
    "            if sw_odr == False and odr == 1:\n",
    "                sw_odr = True\n",
    "                streak = 1\n",
    "                li.append([uid, pid, onb, streak])\n",
    "                continue\n",
    "            if sw_odr == True:\n",
    "                if odr == 1 and streak>0:\n",
    "                    streak += 1\n",
    "                    li.append([uid, pid, onb, streak])\n",
    "                elif odr == 1 and streak<=0:\n",
    "                    streak = 1\n",
    "                    li.append([uid, pid, onb, streak])\n",
    "                elif odr == 0 and streak>0:\n",
    "                    streak = 0\n",
    "                    li.append([uid, pid, onb, streak])\n",
    "                elif odr == 0 and streak<=0:\n",
    "                    streak -= 1\n",
    "                    li.append([uid, pid, onb, streak])\n",
    "    return pd.DataFrame(li, columns=['user_id', 'product_id', 'order_number', 'streak'])"
   ]
  },
  {
   "cell_type": "code",
   "execution_count": null,
   "metadata": {
    "collapsed": true
   },
   "outputs": [],
   "source": [
    "user_id = log.user_id.unique()\n",
    "mp_pool = mp.Pool(total_proc)"
   ]
  },
  {
   "cell_type": "code",
   "execution_count": null,
   "metadata": {
    "collapsed": true
   },
   "outputs": [],
   "source": [
    "%time callback = mp_pool.map(multi, user_id[:99])"
   ]
  },
  {
   "cell_type": "code",
   "execution_count": null,
   "metadata": {
    "collapsed": true
   },
   "outputs": [],
   "source": [
    "df = pd.concat(callback, ignore_index=True)\n",
    "order = log[['order_id', 'user_id', 'order_number']].drop_duplicates().reset_index(drop=True)\n",
    "df = pd.merge(df, order, on=['user_id', 'order_number'], how='left')\n",
    "df"
   ]
  },
  {
   "cell_type": "code",
   "execution_count": null,
   "metadata": {
    "collapsed": true
   },
   "outputs": [],
   "source": [
    "df.to.csv"
   ]
  },
  {
   "cell_type": "code",
   "execution_count": null,
   "metadata": {
    "collapsed": true
   },
   "outputs": [],
   "source": []
  },
  {
   "cell_type": "code",
   "execution_count": null,
   "metadata": {
    "collapsed": true
   },
   "outputs": [],
   "source": []
  },
  {
   "cell_type": "code",
   "execution_count": null,
   "metadata": {
    "collapsed": true
   },
   "outputs": [],
   "source": []
  }
 ],
 "metadata": {
  "kernelspec": {
   "display_name": "Python 3",
   "language": "python",
   "name": "python3"
  },
  "language_info": {
   "codemirror_mode": {
    "name": "ipython",
    "version": 3
   },
   "file_extension": ".py",
   "mimetype": "text/x-python",
   "name": "python",
   "nbconvert_exporter": "python",
   "pygments_lexer": "ipython3",
   "version": "3.6.1"
  }
 },
 "nbformat": 4,
 "nbformat_minor": 2
}
